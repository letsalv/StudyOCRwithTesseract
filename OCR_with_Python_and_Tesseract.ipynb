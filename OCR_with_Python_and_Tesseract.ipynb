{
  "nbformat": 4,
  "nbformat_minor": 0,
  "metadata": {
    "colab": {
      "provenance": []
    },
    "kernelspec": {
      "name": "python3",
      "display_name": "Python 3"
    },
    "language_info": {
      "name": "python"
    }
  },
  "cells": [
    {
      "cell_type": "markdown",
      "metadata": {
        "id": "rIbhqe9I_b2k"
      },
      "source": [
        "OCR - PYTHON AND TESSERACT"
      ]
    },
    {
      "cell_type": "markdown",
      "metadata": {
        "id": "319v3qibRz_m"
      },
      "source": [
        "# Image Recognition and Text extraction"
      ]
    },
    {
      "cell_type": "markdown",
      "metadata": {
        "id": "FvFt86KmCuDa"
      },
      "source": [
        "## Installing Tesseract\n",
        "\n",
        "Documentação: https://pypi.org/project/pytesseract/"
      ]
    },
    {
      "cell_type": "code",
      "source": [
        "!pip install Pillow==9.1.0"
      ],
      "metadata": {
        "id": "jHRO9IpPmnKb",
        "colab": {
          "base_uri": "https://localhost:8080/",
          "height": 298
        },
        "outputId": "9de7d7a5-dbd5-4995-ea8f-8cb3986010eb"
      },
      "execution_count": null,
      "outputs": [
        {
          "output_type": "stream",
          "name": "stdout",
          "text": [
            "Collecting Pillow==9.1.0\n",
            "  Downloading Pillow-9.1.0-cp310-cp310-manylinux_2_17_x86_64.manylinux2014_x86_64.whl.metadata (8.7 kB)\n",
            "Downloading Pillow-9.1.0-cp310-cp310-manylinux_2_17_x86_64.manylinux2014_x86_64.whl (4.3 MB)\n",
            "\u001b[?25l   \u001b[90m━━━━━━━━━━━━━━━━━━━━━━━━━━━━━━━━━━━━━━━━\u001b[0m \u001b[32m0.0/4.3 MB\u001b[0m \u001b[31m?\u001b[0m eta \u001b[36m-:--:--\u001b[0m\r\u001b[2K   \u001b[91m━━━━━━━━━━━━━━━━━━━━━━━━━━\u001b[0m\u001b[91m╸\u001b[0m\u001b[90m━━━━━━━━━━━━━\u001b[0m \u001b[32m2.9/4.3 MB\u001b[0m \u001b[31m94.6 MB/s\u001b[0m eta \u001b[36m0:00:01\u001b[0m\r\u001b[2K   \u001b[91m━━━━━━━━━━━━━━━━━━━━━━━━━━━━━━━━━━━━━━━\u001b[0m\u001b[91m╸\u001b[0m \u001b[32m4.3/4.3 MB\u001b[0m \u001b[31m86.7 MB/s\u001b[0m eta \u001b[36m0:00:01\u001b[0m\r\u001b[2K   \u001b[90m━━━━━━━━━━━━━━━━━━━━━━━━━━━━━━━━━━━━━━━━\u001b[0m \u001b[32m4.3/4.3 MB\u001b[0m \u001b[31m51.7 MB/s\u001b[0m eta \u001b[36m0:00:00\u001b[0m\n",
            "\u001b[?25hInstalling collected packages: Pillow\n",
            "  Attempting uninstall: Pillow\n",
            "    Found existing installation: pillow 11.0.0\n",
            "    Uninstalling pillow-11.0.0:\n",
            "      Successfully uninstalled pillow-11.0.0\n",
            "Successfully installed Pillow-9.1.0\n"
          ]
        },
        {
          "output_type": "display_data",
          "data": {
            "application/vnd.colab-display-data+json": {
              "pip_warning": {
                "packages": [
                  "PIL"
                ]
              },
              "id": "5d13ae5e53be4a6d9fc3d019de60bfc9"
            }
          },
          "metadata": {}
        }
      ]
    },
    {
      "cell_type": "code",
      "metadata": {
        "id": "BIQo7z0a8WGH",
        "colab": {
          "base_uri": "https://localhost:8080/"
        },
        "outputId": "7051d28d-6e2f-40c8-f22c-49b77011ec9f"
      },
      "source": [
        "!sudo apt install tesseract-ocr\n",
        "!pip install pytesseract"
      ],
      "execution_count": null,
      "outputs": [
        {
          "output_type": "stream",
          "name": "stdout",
          "text": [
            "Reading package lists... Done\n",
            "Building dependency tree... Done\n",
            "Reading state information... Done\n",
            "The following additional packages will be installed:\n",
            "  tesseract-ocr-eng tesseract-ocr-osd\n",
            "The following NEW packages will be installed:\n",
            "  tesseract-ocr tesseract-ocr-eng tesseract-ocr-osd\n",
            "0 upgraded, 3 newly installed, 0 to remove and 49 not upgraded.\n",
            "Need to get 4,816 kB of archives.\n",
            "After this operation, 15.6 MB of additional disk space will be used.\n",
            "Get:1 http://archive.ubuntu.com/ubuntu jammy/universe amd64 tesseract-ocr-eng all 1:4.00~git30-7274cfa-1.1 [1,591 kB]\n",
            "Get:2 http://archive.ubuntu.com/ubuntu jammy/universe amd64 tesseract-ocr-osd all 1:4.00~git30-7274cfa-1.1 [2,990 kB]\n",
            "Get:3 http://archive.ubuntu.com/ubuntu jammy/universe amd64 tesseract-ocr amd64 4.1.1-2.1build1 [236 kB]\n",
            "Fetched 4,816 kB in 1s (4,750 kB/s)\n",
            "debconf: unable to initialize frontend: Dialog\n",
            "debconf: (No usable dialog-like program is installed, so the dialog based frontend cannot be used. at /usr/share/perl5/Debconf/FrontEnd/Dialog.pm line 78, <> line 3.)\n",
            "debconf: falling back to frontend: Readline\n",
            "debconf: unable to initialize frontend: Readline\n",
            "debconf: (This frontend requires a controlling tty.)\n",
            "debconf: falling back to frontend: Teletype\n",
            "dpkg-preconfigure: unable to re-open stdin: \n",
            "Selecting previously unselected package tesseract-ocr-eng.\n",
            "(Reading database ... 123630 files and directories currently installed.)\n",
            "Preparing to unpack .../tesseract-ocr-eng_1%3a4.00~git30-7274cfa-1.1_all.deb ...\n",
            "Unpacking tesseract-ocr-eng (1:4.00~git30-7274cfa-1.1) ...\n",
            "Selecting previously unselected package tesseract-ocr-osd.\n",
            "Preparing to unpack .../tesseract-ocr-osd_1%3a4.00~git30-7274cfa-1.1_all.deb ...\n",
            "Unpacking tesseract-ocr-osd (1:4.00~git30-7274cfa-1.1) ...\n",
            "Selecting previously unselected package tesseract-ocr.\n",
            "Preparing to unpack .../tesseract-ocr_4.1.1-2.1build1_amd64.deb ...\n",
            "Unpacking tesseract-ocr (4.1.1-2.1build1) ...\n",
            "Setting up tesseract-ocr-eng (1:4.00~git30-7274cfa-1.1) ...\n",
            "Setting up tesseract-ocr-osd (1:4.00~git30-7274cfa-1.1) ...\n",
            "Setting up tesseract-ocr (4.1.1-2.1build1) ...\n",
            "Processing triggers for man-db (2.10.2-1) ...\n",
            "Requirement already satisfied: pytesseract in /usr/local/lib/python3.10/dist-packages (0.3.13)\n",
            "Requirement already satisfied: packaging>=21.3 in /usr/local/lib/python3.10/dist-packages (from pytesseract) (24.2)\n",
            "Requirement already satisfied: Pillow>=8.0.0 in /usr/local/lib/python3.10/dist-packages (from pytesseract) (9.1.0)\n"
          ]
        }
      ]
    },
    {
      "cell_type": "markdown",
      "metadata": {
        "id": "dccg5fXACz0G"
      },
      "source": [
        "## Importando as bibliotecas"
      ]
    },
    {
      "cell_type": "code",
      "metadata": {
        "id": "R3lIXFjc8yvo"
      },
      "source": [
        "import pytesseract\n",
        "import numpy as np\n",
        "import cv2 # OpenCV\n",
        "from google.colab.patches import cv2_imshow"
      ],
      "execution_count": null,
      "outputs": []
    },
    {
      "cell_type": "markdown",
      "metadata": {
        "id": "v4FGBw3zC21d"
      },
      "source": [
        "## Image reading"
      ]
    },
    {
      "cell_type": "code",
      "metadata": {
        "id": "JCGWU5wf9D7_"
      },
      "source": [
        "#Using OpenCV to show the image\n",
        "#Here the image is in BGR\n",
        "img = cv2.imread('path_image')\n",
        "cv2_imshow(img) # BGR (RGB)"
      ],
      "execution_count": null,
      "outputs": []
    },
    {
      "cell_type": "code",
      "metadata": {
        "id": "f9trFGxA97eX"
      },
      "source": [
        "# OpenCV function to convert BGR to RGB\n",
        "rgb = cv2.cvtColor(img, cv2.COLOR_BGR2RGB)\n",
        "cv2_imshow(rgb)"
      ],
      "execution_count": null,
      "outputs": []
    },
    {
      "cell_type": "code",
      "metadata": {
        "id": "Wu7Ahjic-mx3"
      },
      "source": [
        "#Applying Tesseract to extract the text from the image\n",
        "texto = pytesseract.image_to_string(rgb)"
      ],
      "execution_count": null,
      "outputs": []
    },
    {
      "cell_type": "code",
      "metadata": {
        "colab": {
          "base_uri": "https://localhost:8080/"
        },
        "id": "NnFwolmj-x5D",
        "outputId": "d49d289b-e8df-48e8-a1df-373759782450"
      },
      "source": [
        "print(texto)"
      ],
      "execution_count": null,
      "outputs": [
        {
          "output_type": "stream",
          "name": "stdout",
          "text": [
            "testando o\n",
            "OCR...\n",
            "\f\n"
          ]
        }
      ]
    },
    {
      "cell_type": "markdown",
      "metadata": {
        "id": "2QibO4Zkqh0Q"
      },
      "source": [
        "## Using support packages for other languages"
      ]
    },
    {
      "cell_type": "code",
      "metadata": {
        "id": "T6L5pSTQ_yh5"
      },
      "source": [
        "img = cv2.imread('path_image')\n",
        "cv2_imshow(img) # BGR"
      ],
      "execution_count": null,
      "outputs": []
    },
    {
      "cell_type": "code",
      "metadata": {
        "id": "iossgO_cACKx"
      },
      "source": [
        "# Using OpenCV to convert to RGB\n",
        "rgb = cv2.cvtColor(img, cv2.COLOR_BGR2RGB)\n",
        "cv2_imshow(rgb)"
      ],
      "execution_count": null,
      "outputs": []
    },
    {
      "cell_type": "code",
      "metadata": {
        "id": "RTbbnLuGAXDA"
      },
      "source": [
        "# Using Tesseract to extract text\n",
        "texto = pytesseract.image_to_string(rgb)\n",
        "print(texto)"
      ],
      "execution_count": null,
      "outputs": []
    },
    {
      "cell_type": "code",
      "metadata": {
        "id": "YYGI9GHKA8rs"
      },
      "source": [
        "!tesseract --list-langs"
      ],
      "execution_count": null,
      "outputs": []
    },
    {
      "cell_type": "code",
      "metadata": {
        "colab": {
          "base_uri": "https://localhost:8080/"
        },
        "id": "iqCu8wYlBSNC",
        "outputId": "ab43cc53-8981-4c8e-f4b9-4c4287751d3e"
      },
      "source": [
        "# Download Portuguese package\n",
        "!apt-get install tesseract-ocr-por"
      ],
      "execution_count": null,
      "outputs": [
        {
          "output_type": "stream",
          "name": "stdout",
          "text": [
            "Reading package lists... Done\n",
            "Building dependency tree... Done\n",
            "Reading state information... Done\n",
            "The following NEW packages will be installed:\n",
            "  tesseract-ocr-por\n",
            "0 upgraded, 1 newly installed, 0 to remove and 49 not upgraded.\n",
            "Need to get 856 kB of archives.\n",
            "After this operation, 1,998 kB of additional disk space will be used.\n",
            "Get:1 http://archive.ubuntu.com/ubuntu jammy/universe amd64 tesseract-ocr-por all 1:4.00~git30-7274cfa-1.1 [856 kB]\n",
            "Fetched 856 kB in 0s (6,742 kB/s)\n",
            "Selecting previously unselected package tesseract-ocr-por.\n",
            "(Reading database ... 123677 files and directories currently installed.)\n",
            "Preparing to unpack .../tesseract-ocr-por_1%3a4.00~git30-7274cfa-1.1_all.deb ...\n",
            "Unpacking tesseract-ocr-por (1:4.00~git30-7274cfa-1.1) ...\n",
            "Setting up tesseract-ocr-por (1:4.00~git30-7274cfa-1.1) ...\n"
          ]
        }
      ]
    },
    {
      "cell_type": "code",
      "metadata": {
        "colab": {
          "base_uri": "https://localhost:8080/"
        },
        "id": "R2-9cSgqBiSc",
        "outputId": "a707bc1a-24be-4459-eddd-0c1189b51415"
      },
      "source": [
        "!tesseract --list-langs"
      ],
      "execution_count": null,
      "outputs": [
        {
          "output_type": "stream",
          "name": "stdout",
          "text": [
            "List of available languages (3):\n",
            "eng\n",
            "osd\n",
            "por\n"
          ]
        }
      ]
    },
    {
      "cell_type": "code",
      "metadata": {
        "id": "QjsAYK1bBsVO"
      },
      "source": [
        "# Using Tesseract in Portuguese\n",
        "texto = pytesseract.image_to_string(rgb, lang='por')\n",
        "print(texto)"
      ],
      "execution_count": null,
      "outputs": []
    },
    {
      "cell_type": "code",
      "metadata": {
        "id": "0GXk3TF2COcv"
      },
      "source": [
        "# Solvig de problem about the languages package, we must clone the new package and configure this on google colab\n",
        "# Create the new directory to clone the package\n",
        "!mkdir tessdata"
      ],
      "execution_count": null,
      "outputs": []
    },
    {
      "cell_type": "code",
      "metadata": {
        "colab": {
          "base_uri": "https://localhost:8080/"
        },
        "id": "UmBY7XUyCZ98",
        "outputId": "722f3233-6d85-4dce-9f94-9050d256cd02"
      },
      "source": [
        "# Clone the path to the directory tessdayta\n",
        "!wget -O ./tessdata/por.traineddata https://github.com/tesseract-ocr/tessdata/blob/main/por.traineddata?raw=true"
      ],
      "execution_count": null,
      "outputs": [
        {
          "output_type": "stream",
          "name": "stdout",
          "text": [
            "--2024-11-27 12:57:38--  https://github.com/tesseract-ocr/tessdata/blob/main/por.traineddata?raw=true\n",
            "Resolving github.com (github.com)... 140.82.113.4\n",
            "Connecting to github.com (github.com)|140.82.113.4|:443... connected.\n",
            "HTTP request sent, awaiting response... 302 Found\n",
            "Location: https://github.com/tesseract-ocr/tessdata/raw/refs/heads/main/por.traineddata [following]\n",
            "--2024-11-27 12:57:38--  https://github.com/tesseract-ocr/tessdata/raw/refs/heads/main/por.traineddata\n",
            "Reusing existing connection to github.com:443.\n",
            "HTTP request sent, awaiting response... 302 Found\n",
            "Location: https://raw.githubusercontent.com/tesseract-ocr/tessdata/refs/heads/main/por.traineddata [following]\n",
            "--2024-11-27 12:57:38--  https://raw.githubusercontent.com/tesseract-ocr/tessdata/refs/heads/main/por.traineddata\n",
            "Resolving raw.githubusercontent.com (raw.githubusercontent.com)... 185.199.108.133, 185.199.111.133, 185.199.109.133, ...\n",
            "Connecting to raw.githubusercontent.com (raw.githubusercontent.com)|185.199.108.133|:443... connected.\n",
            "HTTP request sent, awaiting response... 200 OK\n",
            "Length: 15336931 (15M) [application/octet-stream]\n",
            "Saving to: ‘./tessdata/por.traineddata’\n",
            "\n",
            "./tessdata/por.trai 100%[===================>]  14.63M  --.-KB/s    in 0.05s   \n",
            "\n",
            "2024-11-27 12:57:38 (272 MB/s) - ‘./tessdata/por.traineddata’ saved [15336931/15336931]\n",
            "\n"
          ]
        }
      ]
    },
    {
      "cell_type": "code",
      "metadata": {
        "id": "_vUI1k6-C_Ds"
      },
      "source": [
        "# Using the configuration of the new package\n",
        "config_tesseract = '--tessdata-dir tessdata'\n",
        "texto = pytesseract.image_to_string(rgb, lang='por', config=config_tesseract) # Configure this for your language\n",
        "print(texto)"
      ],
      "execution_count": null,
      "outputs": []
    },
    {
      "cell_type": "code",
      "metadata": {
        "colab": {
          "base_uri": "https://localhost:8080/"
        },
        "id": "L3BcGJ8FDW3s",
        "outputId": "5f2621b6-1168-4e69-9227-2751afe34be9"
      },
      "source": [
        "# Clone the english package for tesseract\n",
        "!wget -O ./tessdata/eng.traineddata https://github.com/tesseract-ocr/tessdata/blob/main/eng.traineddata?raw=true"
      ],
      "execution_count": null,
      "outputs": [
        {
          "output_type": "stream",
          "name": "stdout",
          "text": [
            "--2024-11-27 12:57:46--  https://github.com/tesseract-ocr/tessdata/blob/main/eng.traineddata?raw=true\n",
            "Resolving github.com (github.com)... 140.82.112.3\n",
            "Connecting to github.com (github.com)|140.82.112.3|:443... connected.\n",
            "HTTP request sent, awaiting response... 302 Found\n",
            "Location: https://github.com/tesseract-ocr/tessdata/raw/refs/heads/main/eng.traineddata [following]\n",
            "--2024-11-27 12:57:46--  https://github.com/tesseract-ocr/tessdata/raw/refs/heads/main/eng.traineddata\n",
            "Reusing existing connection to github.com:443.\n",
            "HTTP request sent, awaiting response... 302 Found\n",
            "Location: https://raw.githubusercontent.com/tesseract-ocr/tessdata/refs/heads/main/eng.traineddata [following]\n",
            "--2024-11-27 12:57:46--  https://raw.githubusercontent.com/tesseract-ocr/tessdata/refs/heads/main/eng.traineddata\n",
            "Resolving raw.githubusercontent.com (raw.githubusercontent.com)... 185.199.111.133, 185.199.109.133, 185.199.108.133, ...\n",
            "Connecting to raw.githubusercontent.com (raw.githubusercontent.com)|185.199.111.133|:443... connected.\n",
            "HTTP request sent, awaiting response... 200 OK\n",
            "Length: 23466654 (22M) [application/octet-stream]\n",
            "Saving to: ‘./tessdata/eng.traineddata’\n",
            "\n",
            "./tessdata/eng.trai 100%[===================>]  22.38M  --.-KB/s    in 0.08s   \n",
            "\n",
            "2024-11-27 12:57:46 (293 MB/s) - ‘./tessdata/eng.traineddata’ saved [23466654/23466654]\n",
            "\n"
          ]
        }
      ]
    },
    {
      "cell_type": "code",
      "metadata": {
        "id": "2A8XNXwIDgKJ",
        "colab": {
          "base_uri": "https://localhost:8080/"
        },
        "outputId": "3a82dbd1-b415-4eab-88be-1644cca8d449"
      },
      "source": [
        "!ls tessdata/"
      ],
      "execution_count": null,
      "outputs": [
        {
          "output_type": "stream",
          "name": "stdout",
          "text": [
            "eng.traineddata  por.traineddata\n"
          ]
        }
      ]
    },
    {
      "cell_type": "markdown",
      "metadata": {
        "id": "vn5g678ZGN6p"
      },
      "source": [
        "## Parameters"
      ]
    },
    {
      "cell_type": "markdown",
      "metadata": {
        "id": "LtkSwJ88OvaK"
      },
      "source": [
        "### Page segmentation modes (PSM)"
      ]
    },
    {
      "cell_type": "code",
      "metadata": {
        "colab": {
          "base_uri": "https://localhost:8080/"
        },
        "id": "j3hu6z25bzx5",
        "outputId": "336a439e-aec2-4818-ce96-d83577c267ab"
      },
      "source": [
        "# Using Tesseract´s Page Segmentation mode\n",
        "!tesseract --help-psm"
      ],
      "execution_count": null,
      "outputs": [
        {
          "output_type": "stream",
          "name": "stdout",
          "text": [
            "Page segmentation modes:\n",
            "  0    Orientation and script detection (OSD) only.\n",
            "  1    Automatic page segmentation with OSD.\n",
            "  2    Automatic page segmentation, but no OSD, or OCR. (not implemented)\n",
            "  3    Fully automatic page segmentation, but no OSD. (Default)\n",
            "  4    Assume a single column of text of variable sizes.\n",
            "  5    Assume a single uniform block of vertically aligned text.\n",
            "  6    Assume a single uniform block of text.\n",
            "  7    Treat the image as a single text line.\n",
            "  8    Treat the image as a single word.\n",
            "  9    Treat the image as a single word in a circle.\n",
            " 10    Treat the image as a single character.\n",
            " 11    Sparse text. Find as much text as possible in no particular order.\n",
            " 12    Sparse text with OSD.\n",
            " 13    Raw line. Treat the image as a single text line,\n",
            "       bypassing hacks that are Tesseract-specific.\n"
          ]
        }
      ]
    },
    {
      "cell_type": "code",
      "metadata": {
        "colab": {
          "base_uri": "https://localhost:8080/",
          "height": 172
        },
        "id": "HwMpZkc6cFLw",
        "outputId": "70a46a3b-9b99-498c-83be-8433a007c41a"
      },
      "source": [
        "img = cv2.imread('image_path')\n",
        "rgb = cv2.cvtColor(img, cv2.COLOR_BGR2RGB)\n",
        "cv2_imshow(rgb)"
      ],
      "execution_count": null,
      "outputs": [
        {
          "output_type": "display_data",
          "data": {
            "text/plain": [
              "<PIL.Image.Image image mode=RGB size=500x155>"
            ],
            "image/png": "[encoded data removed]"
          },
          "metadata": {}
        }
      ]
    },
    {
      "cell_type": "code",
      "metadata": {
        "colab": {
          "base_uri": "https://localhost:8080/"
        },
        "id": "WHfEiSIachCv",
        "outputId": "3e22be67-8226-4891-cf8f-c2b719eb6e80"
      },
      "source": [
        "# Using the  psm6 settings, Tesseract will recognize as a block of text.\n",
        "# So, the algorithm now can recognize the words who are split as one\n",
        "config_tesseract = '--tessdata-dir tessdata --psm 6'\n",
        "texto = pytesseract.image_to_string(rgb, lang='por', config=config_tesseract)\n",
        "print(texto)"
      ],
      "execution_count": null,
      "outputs": [
        {
          "output_type": "stream",
          "name": "stdout",
          "text": [
            "A inteligência humana é caracterizada pela capacidade de se\n",
            "adaptar a mudanças. É resultado de gerações de seleção natural\n",
            "Sobre indivíduos com capacidade para lidar com as novas ciruns-\n",
            "tâncias. Não devemos, portanto, temer as transformações. Preci-\n",
            "samos apenas fazer com que elas operem em nosso benefício.\n",
            "\f\n"
          ]
        }
      ]
    },
    {
      "cell_type": "code",
      "metadata": {
        "colab": {
          "base_uri": "https://localhost:8080/"
        },
        "id": "rEVaADk2c-oa",
        "outputId": "966ca206-5f9a-40c6-c4be-583525d23f51"
      },
      "source": [
        "# If you don't use this settings , in this case, it's going do to a wrong translation\n",
        "config_tesseract = '--tessdata-dir tessdata'\n",
        "texto = pytesseract.image_to_string(rgb, lang='por', config=config_tesseract)\n",
        "print(texto)"
      ],
      "execution_count": null,
      "outputs": [
        {
          "output_type": "stream",
          "name": "stdout",
          "text": [
            "A inteligência humana é caracterizada pela capacidade de se\n",
            "adaptar a mudanças. É resultado de gerações de seleção natural\n",
            "Sobre indivíduos com capacidade para lidar com as novas ciruns-\n",
            "portanto, temer as transformações. Preci-\n",
            "\n",
            "tâncias. Não devemos,\n",
            "samos apenas fazer com que elas operem em nosso benefício.\n",
            "\f\n"
          ]
        }
      ]
    },
    {
      "cell_type": "markdown",
      "metadata": {
        "id": "bgMn3oN6SS3v"
      },
      "source": [
        "### Detecção de orientação da página"
      ]
    },
    {
      "cell_type": "code",
      "metadata": {
        "id": "U1mDRjanetiQ"
      },
      "source": [
        "from PIL import Image\n",
        "import matplotlib.pyplot as plt"
      ],
      "execution_count": null,
      "outputs": []
    },
    {
      "cell_type": "code",
      "metadata": {
        "colab": {
          "base_uri": "https://localhost:8080/",
          "height": 269
        },
        "id": "l0EDHPKee67M",
        "outputId": "004ae99f-31d7-41f1-bc53-e3565a1c61dd"
      },
      "source": [
        "# Using PIL to page detection\n",
        "img = Image.open('livro01.jpg')\n",
        "plt.imshow(img);"
      ],
      "execution_count": null,
      "outputs": [
        {
          "output_type": "display_data",
          "data": {
            "image/png": "[encoded data removed]",
            "text/plain": [
              "<Figure size 432x288 with 1 Axes>"
            ]
          },
          "metadata": {
            "needs_background": "light"
          }
        }
      ]
    },
    {
      "cell_type": "code",
      "metadata": {
        "colab": {
          "base_uri": "https://localhost:8080/"
        },
        "id": "JsNReQzUfeFZ",
        "outputId": "a00251cc-c9dc-4377-ab65-275beb02e05f"
      },
      "source": [
        "print(pytesseract.image_to_osd(img))"
      ],
      "execution_count": null,
      "outputs": [
        {
          "output_type": "stream",
          "name": "stdout",
          "text": [
            "Page number: 0\n",
            "Orientation in degrees: 0\n",
            "Rotate: 0\n",
            "Orientation confidence: 1.77\n",
            "Script: Latin\n",
            "Script confidence: 13.33\n",
            "\n"
          ]
        }
      ]
    },
    {
      "cell_type": "markdown",
      "metadata": {
        "id": "wImIO1JwR-gH"
      },
      "source": [
        "# Using Tesseract to outline text boxes\n",
        "\n"
      ]
    },
    {
      "cell_type": "code",
      "metadata": {
        "id": "8pAjXiGQhj2S"
      },
      "source": [
        "from pytesseract import Output"
      ],
      "execution_count": null,
      "outputs": []
    },
    {
      "cell_type": "code",
      "metadata": {
        "id": "a5KobbN8hsq4"
      },
      "source": [
        "img = cv2.imread('path_image')\n",
        "rgb = cv2.cvtColor(img, cv2.COLOR_BGR2RGB)\n",
        "cv2_imshow(rgb)"
      ],
      "execution_count": null,
      "outputs": []
    },
    {
      "cell_type": "code",
      "metadata": {
        "colab": {
          "base_uri": "https://localhost:8080/"
        },
        "id": "p2XX6YTRiBjG",
        "outputId": "b7f17751-f95e-4bcd-e674-9aa536de8ad7"
      },
      "source": [
        "config_tesseract = '--tessdata-dir tessdata'\n",
        "resultado = pytesseract.image_to_data(rgb, config=config_tesseract, lang='por', output_type=Output.DICT)\n",
        "resultado"
      ],
      "execution_count": null,
      "outputs": [
        {
          "output_type": "execute_result",
          "data": {
            "text/plain": [
              "{'block_num': [0, 1, 1, 1, 1, 1, 1, 1],\n",
              " 'conf': ['-1', '-1', '-1', '-1', 90, '-1', 74, 66],\n",
              " 'height': [400, 236, 236, 92, 92, 87, 76, 87],\n",
              " 'left': [0, 38, 38, 38, 38, 102, 102, 307],\n",
              " 'level': [1, 2, 3, 4, 5, 4, 5, 5],\n",
              " 'line_num': [0, 0, 0, 1, 1, 2, 2, 2],\n",
              " 'page_num': [1, 1, 1, 1, 1, 1, 1, 1],\n",
              " 'par_num': [0, 0, 1, 1, 1, 1, 1, 1],\n",
              " 'text': ['', '', '', '', 'TESTANDO', '', 'O', 'OCR...'],\n",
              " 'top': [0, 79, 79, 79, 79, 228, 233, 228],\n",
              " 'width': [700, 607, 607, 607, 607, 532, 77, 327],\n",
              " 'word_num': [0, 0, 0, 0, 1, 0, 1, 2]}"
            ]
          },
          "metadata": {},
          "execution_count": 33
        }
      ]
    },
    {
      "cell_type": "code",
      "source": [
        "# 'block_num': Current block number. When tesseract does OCR, it divides the image into multiple regions and each block is a region\n",
        "#'conf': prediction confidence (from 0 to 100. -1 means no text was recognized)\n",
        "#'height': text block height detected\n",
        "#'left': x coordinate where the bounding box starts\n",
        "#'level': the level corresponds to the category of the detected block (1.page, 2.block, 3.paragraph, 4.line, 5.word)\n",
        "#'line_num': line number of what was detected\n",
        "#'page_num': the index of the page where the item was detected\n",
        "#'par_num': paragraph num\n",
        "#'text': the result of recognition\n",
        "#'top': y coordinate where the bounding box begins\n",
        "#'width': width of the current detected text block\n",
        "#'word_num': word number (index) within the current block\n"
      ],
      "metadata": {
        "id": "XcLkHqGIZG2D"
      },
      "execution_count": null,
      "outputs": []
    },
    {
      "cell_type": "code",
      "metadata": {
        "id": "ym57MmL9rbJz"
      },
      "source": [
        "# adjusting confidence to filter only the most confident detections\n",
        "min_conf = 40 #@param {type: 'slider', min: 0, max: 100}"
      ],
      "execution_count": null,
      "outputs": []
    },
    {
      "cell_type": "code",
      "metadata": {
        "id": "Inzy5moarphO"
      },
      "source": [
        "# Fuction that uses the results of te Dict to draw the rectange around the predicted words\n",
        "def caixa_texto(resultado, img, cor = (255, 100, 0)):\n",
        "  x = resultado['left'][i]\n",
        "  y = resultado['top'][i]\n",
        "  w = resultado['width'][i]\n",
        "  h = resultado['height'][i]\n",
        "\n",
        "  cv2.rectangle(img, (x, y), (x + w, y + h), cor, 2)\n",
        "\n",
        "  return x, y, img"
      ],
      "execution_count": null,
      "outputs": []
    },
    {
      "cell_type": "code",
      "metadata": {
        "colab": {
          "base_uri": "https://localhost:8080/"
        },
        "id": "DB0MFfhhuNqa",
        "outputId": "ca38a9e9-9096-4408-8058-0627948d4d0e"
      },
      "source": [
        "len(resultado['text'])"
      ],
      "execution_count": null,
      "outputs": [
        {
          "output_type": "execute_result",
          "data": {
            "text/plain": [
              "8"
            ]
          },
          "metadata": {},
          "execution_count": 36
        }
      ]
    },
    {
      "cell_type": "code",
      "metadata": {
        "id": "z1HB43xdt64x"
      },
      "source": [
        "# Create the text above the predicted box with the predicted word\n",
        "\n",
        "img_copia = rgb.copy()\n",
        "for i in range(0, len(resultado['text'])):\n",
        "  #print(i)\n",
        "  confianca = int(resultado['conf'][i])\n",
        "  #print(confianca)\n",
        "  if confianca > min_conf:\n",
        "    x, y, img = caixa_texto(resultado, img_copia)\n",
        "    #print(x, y)\n",
        "    texto = resultado['text'][i]\n",
        "    cv2.putText(img_copia, texto, (x, y - 10), cv2.FONT_HERSHEY_SIMPLEX, 1.1, (0,0,255))\n",
        "cv2_imshow(img_copia)"
      ],
      "execution_count": null,
      "outputs": []
    },
    {
      "cell_type": "code",
      "metadata": {
        "id": "It3VPB3GyKkg"
      },
      "source": [
        "img = cv2.imread('image_path')\n",
        "rgb = cv2.cvtColor(img, cv2.COLOR_BGR2RGB)"
      ],
      "execution_count": null,
      "outputs": []
    },
    {
      "cell_type": "code",
      "metadata": {
        "id": "fGJbBdDIybFG"
      },
      "source": [
        "config_tesseract = \"--tessdata-dir tessdata\"\n",
        "resultado = pytesseract.image_to_data(rgb, config=config_tesseract, lang=\"por\", output_type=Output.DICT)\n",
        "resultado"
      ],
      "execution_count": null,
      "outputs": []
    },
    {
      "cell_type": "code",
      "metadata": {
        "id": "XJmOzdvPy4xW"
      },
      "source": [
        "# ANOTHER WAY TO WRITE THE PREDICTED WORDS ABOVE THE BOXES, USING PIL\n",
        "\n",
        "from PIL import ImageFont, ImageDraw, Image\n",
        "fonte = '/content/calibri.ttf'"
      ],
      "execution_count": null,
      "outputs": []
    },
    {
      "cell_type": "code",
      "metadata": {
        "id": "l0UqMIo5zfZy"
      },
      "source": [
        "# CREATING FUNTION TO WRITE\n",
        "\n",
        "def escreve_texto(texto, x, y, img, fonte, tamanho_texto=32):\n",
        "  fonte = ImageFont.truetype(fonte, tamanho_texto)\n",
        "  img_pil = Image.fromarray(img)\n",
        "  draw = ImageDraw.Draw(img_pil)\n",
        "  draw.text((x, y - tamanho_texto), texto, font = fonte)\n",
        "  img = np.array(img_pil)\n",
        "  return img"
      ],
      "execution_count": null,
      "outputs": []
    },
    {
      "cell_type": "code",
      "metadata": {
        "id": "CnqWi900yqON"
      },
      "source": [
        "img_copia = rgb.copy()\n",
        "for i in range(0, len(resultado['text'])):\n",
        "  confianca = int(resultado['conf'][i])\n",
        "  if confianca > min_conf:\n",
        "    x, y, img = caixa_texto(resultado, img_copia)\n",
        "    texto = resultado['text'][i]\n",
        "    img_copia = escreve_texto(texto, x, y, img_copia, fonte)\n",
        "cv2_imshow(img_copia)"
      ],
      "execution_count": null,
      "outputs": []
    },
    {
      "cell_type": "markdown",
      "metadata": {
        "id": "DENHZyZBMM4Y"
      },
      "source": [
        "# Searching for specific information in the image"
      ]
    },
    {
      "cell_type": "code",
      "metadata": {
        "id": "mEX-LnJD6K6t"
      },
      "source": [
        "import re # regular expressions"
      ],
      "execution_count": null,
      "outputs": []
    },
    {
      "cell_type": "code",
      "metadata": {
        "id": "YHqKLyyT6TVQ"
      },
      "source": [
        "img = cv2.imread(\"tabela_teste.jpg\")\n",
        "rgb = cv2.cvtColor(img, cv2.COLOR_BGR2RGB)\n",
        "cv2_imshow(rgb)"
      ],
      "execution_count": null,
      "outputs": []
    },
    {
      "cell_type": "code",
      "metadata": {
        "colab": {
          "base_uri": "https://localhost:8080/"
        },
        "id": "HgUbfncs6mqT",
        "outputId": "269ffebd-d02f-4590-9163-a3ed6a6b6397"
      },
      "source": [
        "config_tesseract = \"--tessdata-dir tessdata\"\n",
        "resultado = pytesseract.image_to_data(rgb, config=config_tesseract, lang=\"por\", output_type=Output.DICT)\n",
        "resultado"
      ],
      "execution_count": null,
      "outputs": [
        {
          "output_type": "execute_result",
          "data": {
            "text/plain": [
              "{'block_num': [0,\n",
              "  1,\n",
              "  1,\n",
              "  1,\n",
              "  1,\n",
              "  1,\n",
              "  2,\n",
              "  2,\n",
              "  2,\n",
              "  2,\n",
              "  2,\n",
              "  2,\n",
              "  2,\n",
              "  2,\n",
              "  2,\n",
              "  2,\n",
              "  2,\n",
              "  2,\n",
              "  2,\n",
              "  2,\n",
              "  2,\n",
              "  2,\n",
              "  2,\n",
              "  2,\n",
              "  2,\n",
              "  2,\n",
              "  2,\n",
              "  2,\n",
              "  2,\n",
              "  2,\n",
              "  2,\n",
              "  2,\n",
              "  2,\n",
              "  2,\n",
              "  2,\n",
              "  2,\n",
              "  2,\n",
              "  2,\n",
              "  2,\n",
              "  2,\n",
              "  2,\n",
              "  2,\n",
              "  3,\n",
              "  3,\n",
              "  3,\n",
              "  3,\n",
              "  3,\n",
              "  3],\n",
              " 'conf': ['-1',\n",
              "  '-1',\n",
              "  '-1',\n",
              "  '-1',\n",
              "  92,\n",
              "  92,\n",
              "  '-1',\n",
              "  '-1',\n",
              "  '-1',\n",
              "  92,\n",
              "  91,\n",
              "  91,\n",
              "  92,\n",
              "  93,\n",
              "  92,\n",
              "  92,\n",
              "  93,\n",
              "  94,\n",
              "  92,\n",
              "  92,\n",
              "  91,\n",
              "  87,\n",
              "  87,\n",
              "  87,\n",
              "  '-1',\n",
              "  90,\n",
              "  '-1',\n",
              "  92,\n",
              "  92,\n",
              "  92,\n",
              "  93,\n",
              "  92,\n",
              "  93,\n",
              "  92,\n",
              "  91,\n",
              "  93,\n",
              "  96,\n",
              "  92,\n",
              "  87,\n",
              "  87,\n",
              "  77,\n",
              "  84,\n",
              "  '-1',\n",
              "  '-1',\n",
              "  '-1',\n",
              "  90,\n",
              "  93,\n",
              "  91],\n",
              " 'height': [134,\n",
              "  22,\n",
              "  22,\n",
              "  22,\n",
              "  19,\n",
              "  21,\n",
              "  82,\n",
              "  82,\n",
              "  34,\n",
              "  17,\n",
              "  22,\n",
              "  16,\n",
              "  16,\n",
              "  2,\n",
              "  17,\n",
              "  16,\n",
              "  15,\n",
              "  2,\n",
              "  16,\n",
              "  15,\n",
              "  16,\n",
              "  15,\n",
              "  16,\n",
              "  15,\n",
              "  20,\n",
              "  20,\n",
              "  32,\n",
              "  17,\n",
              "  16,\n",
              "  21,\n",
              "  16,\n",
              "  16,\n",
              "  3,\n",
              "  16,\n",
              "  16,\n",
              "  16,\n",
              "  2,\n",
              "  16,\n",
              "  15,\n",
              "  16,\n",
              "  15,\n",
              "  15,\n",
              "  23,\n",
              "  23,\n",
              "  23,\n",
              "  16,\n",
              "  16,\n",
              "  23],\n",
              " 'left': [0,\n",
              "  19,\n",
              "  19,\n",
              "  19,\n",
              "  19,\n",
              "  147,\n",
              "  19,\n",
              "  19,\n",
              "  19,\n",
              "  19,\n",
              "  84,\n",
              "  211,\n",
              "  241,\n",
              "  304,\n",
              "  318,\n",
              "  388,\n",
              "  444,\n",
              "  478,\n",
              "  491,\n",
              "  565,\n",
              "  720,\n",
              "  811,\n",
              "  927,\n",
              "  989,\n",
              "  20,\n",
              "  20,\n",
              "  19,\n",
              "  19,\n",
              "  83,\n",
              "  114,\n",
              "  261,\n",
              "  292,\n",
              "  368,\n",
              "  381,\n",
              "  450,\n",
              "  506,\n",
              "  540,\n",
              "  552,\n",
              "  720,\n",
              "  809,\n",
              "  927,\n",
              "  988,\n",
              "  19,\n",
              "  19,\n",
              "  19,\n",
              "  19,\n",
              "  78,\n",
              "  100],\n",
              " 'level': [1,\n",
              "  2,\n",
              "  3,\n",
              "  4,\n",
              "  5,\n",
              "  5,\n",
              "  2,\n",
              "  3,\n",
              "  4,\n",
              "  5,\n",
              "  5,\n",
              "  5,\n",
              "  5,\n",
              "  5,\n",
              "  5,\n",
              "  5,\n",
              "  5,\n",
              "  5,\n",
              "  5,\n",
              "  5,\n",
              "  5,\n",
              "  5,\n",
              "  5,\n",
              "  5,\n",
              "  4,\n",
              "  5,\n",
              "  4,\n",
              "  5,\n",
              "  5,\n",
              "  5,\n",
              "  5,\n",
              "  5,\n",
              "  5,\n",
              "  5,\n",
              "  5,\n",
              "  5,\n",
              "  5,\n",
              "  5,\n",
              "  5,\n",
              "  5,\n",
              "  5,\n",
              "  5,\n",
              "  2,\n",
              "  3,\n",
              "  4,\n",
              "  5,\n",
              "  5,\n",
              "  5],\n",
              " 'line_num': [0,\n",
              "  0,\n",
              "  0,\n",
              "  1,\n",
              "  1,\n",
              "  1,\n",
              "  0,\n",
              "  0,\n",
              "  1,\n",
              "  1,\n",
              "  1,\n",
              "  1,\n",
              "  1,\n",
              "  1,\n",
              "  1,\n",
              "  1,\n",
              "  1,\n",
              "  1,\n",
              "  1,\n",
              "  1,\n",
              "  1,\n",
              "  1,\n",
              "  1,\n",
              "  1,\n",
              "  2,\n",
              "  2,\n",
              "  3,\n",
              "  3,\n",
              "  3,\n",
              "  3,\n",
              "  3,\n",
              "  3,\n",
              "  3,\n",
              "  3,\n",
              "  3,\n",
              "  3,\n",
              "  3,\n",
              "  3,\n",
              "  3,\n",
              "  3,\n",
              "  3,\n",
              "  3,\n",
              "  0,\n",
              "  0,\n",
              "  1,\n",
              "  1,\n",
              "  1,\n",
              "  1],\n",
              " 'page_num': [1,\n",
              "  1,\n",
              "  1,\n",
              "  1,\n",
              "  1,\n",
              "  1,\n",
              "  1,\n",
              "  1,\n",
              "  1,\n",
              "  1,\n",
              "  1,\n",
              "  1,\n",
              "  1,\n",
              "  1,\n",
              "  1,\n",
              "  1,\n",
              "  1,\n",
              "  1,\n",
              "  1,\n",
              "  1,\n",
              "  1,\n",
              "  1,\n",
              "  1,\n",
              "  1,\n",
              "  1,\n",
              "  1,\n",
              "  1,\n",
              "  1,\n",
              "  1,\n",
              "  1,\n",
              "  1,\n",
              "  1,\n",
              "  1,\n",
              "  1,\n",
              "  1,\n",
              "  1,\n",
              "  1,\n",
              "  1,\n",
              "  1,\n",
              "  1,\n",
              "  1,\n",
              "  1,\n",
              "  1,\n",
              "  1,\n",
              "  1,\n",
              "  1,\n",
              "  1,\n",
              "  1],\n",
              " 'par_num': [0,\n",
              "  0,\n",
              "  1,\n",
              "  1,\n",
              "  1,\n",
              "  1,\n",
              "  0,\n",
              "  1,\n",
              "  1,\n",
              "  1,\n",
              "  1,\n",
              "  1,\n",
              "  1,\n",
              "  1,\n",
              "  1,\n",
              "  1,\n",
              "  1,\n",
              "  1,\n",
              "  1,\n",
              "  1,\n",
              "  1,\n",
              "  1,\n",
              "  1,\n",
              "  1,\n",
              "  1,\n",
              "  1,\n",
              "  1,\n",
              "  1,\n",
              "  1,\n",
              "  1,\n",
              "  1,\n",
              "  1,\n",
              "  1,\n",
              "  1,\n",
              "  1,\n",
              "  1,\n",
              "  1,\n",
              "  1,\n",
              "  1,\n",
              "  1,\n",
              "  1,\n",
              "  1,\n",
              "  0,\n",
              "  1,\n",
              "  1,\n",
              "  1,\n",
              "  1,\n",
              "  1],\n",
              " 'text': ['',\n",
              "  '',\n",
              "  '',\n",
              "  '',\n",
              "  'DESPESAS',\n",
              "  'BANCÁRIAS',\n",
              "  '',\n",
              "  '',\n",
              "  '',\n",
              "  'Tarifa',\n",
              "  'Manutenção',\n",
              "  'de',\n",
              "  'Conta',\n",
              "  '-',\n",
              "  'Sicredi',\n",
              "  'Norte',\n",
              "  'SC',\n",
              "  '-',\n",
              "  'CESTA',\n",
              "  'DE',\n",
              "  '02/2021',\n",
              "  '10/02/2021',\n",
              "  'Débito',\n",
              "  'Aut.',\n",
              "  '',\n",
              "  'RELACIONAMENTO',\n",
              "  '',\n",
              "  'Tarifa',\n",
              "  'de',\n",
              "  'Compensação',\n",
              "  'de',\n",
              "  'Boletos',\n",
              "  '-',\n",
              "  'Sicredi',\n",
              "  'Norte',\n",
              "  'SC',\n",
              "  '-',\n",
              "  'TARIFA',\n",
              "  '02/2021',\n",
              "  '04/02/2021',\n",
              "  'Débito',\n",
              "  'Aut.',\n",
              "  '',\n",
              "  '',\n",
              "  '',\n",
              "  'COM',\n",
              "  'R',\n",
              "  'LIQUIDAÇÃO'],\n",
              " 'top': [0,\n",
              "  9,\n",
              "  9,\n",
              "  9,\n",
              "  9,\n",
              "  10,\n",
              "  34,\n",
              "  34,\n",
              "  34,\n",
              "  34,\n",
              "  36,\n",
              "  39,\n",
              "  40,\n",
              "  50,\n",
              "  41,\n",
              "  43,\n",
              "  44,\n",
              "  53,\n",
              "  45,\n",
              "  46,\n",
              "  49,\n",
              "  51,\n",
              "  52,\n",
              "  53,\n",
              "  58,\n",
              "  58,\n",
              "  84,\n",
              "  84,\n",
              "  86,\n",
              "  86,\n",
              "  89,\n",
              "  90,\n",
              "  99,\n",
              "  91,\n",
              "  92,\n",
              "  93,\n",
              "  102,\n",
              "  94,\n",
              "  97,\n",
              "  98,\n",
              "  100,\n",
              "  101,\n",
              "  108,\n",
              "  108,\n",
              "  108,\n",
              "  108,\n",
              "  109,\n",
              "  108],\n",
              " 'width': [1042,\n",
              "  253,\n",
              "  253,\n",
              "  253,\n",
              "  119,\n",
              "  125,\n",
              "  1004,\n",
              "  1004,\n",
              "  1004,\n",
              "  56,\n",
              "  120,\n",
              "  23,\n",
              "  55,\n",
              "  6,\n",
              "  62,\n",
              "  48,\n",
              "  27,\n",
              "  6,\n",
              "  67,\n",
              "  26,\n",
              "  67,\n",
              "  93,\n",
              "  56,\n",
              "  34,\n",
              "  207,\n",
              "  207,\n",
              "  1003,\n",
              "  56,\n",
              "  23,\n",
              "  140,\n",
              "  23,\n",
              "  68,\n",
              "  6,\n",
              "  61,\n",
              "  49,\n",
              "  27,\n",
              "  6,\n",
              "  72,\n",
              "  67,\n",
              "  94,\n",
              "  55,\n",
              "  34,\n",
              "  215,\n",
              "  215,\n",
              "  215,\n",
              "  50,\n",
              "  14,\n",
              "  134],\n",
              " 'word_num': [0,\n",
              "  0,\n",
              "  0,\n",
              "  0,\n",
              "  1,\n",
              "  2,\n",
              "  0,\n",
              "  0,\n",
              "  0,\n",
              "  1,\n",
              "  2,\n",
              "  3,\n",
              "  4,\n",
              "  5,\n",
              "  6,\n",
              "  7,\n",
              "  8,\n",
              "  9,\n",
              "  10,\n",
              "  11,\n",
              "  12,\n",
              "  13,\n",
              "  14,\n",
              "  15,\n",
              "  0,\n",
              "  1,\n",
              "  0,\n",
              "  1,\n",
              "  2,\n",
              "  3,\n",
              "  4,\n",
              "  5,\n",
              "  6,\n",
              "  7,\n",
              "  8,\n",
              "  9,\n",
              "  10,\n",
              "  11,\n",
              "  12,\n",
              "  13,\n",
              "  14,\n",
              "  15,\n",
              "  0,\n",
              "  0,\n",
              "  0,\n",
              "  1,\n",
              "  2,\n",
              "  3]}"
            ]
          },
          "metadata": {},
          "execution_count": 47
        }
      ]
    },
    {
      "cell_type": "code",
      "metadata": {
        "id": "oINlTBsP6x5N"
      },
      "source": [
        "# https://regexr.com/\n",
        "# looking for date in the text , using the pattern below\n",
        "padrao_data = '^(0[1-9]|[12][0-9]|3[01])/(0[1-9]|1[012])/(19|20)\\d\\d$'"
      ],
      "execution_count": null,
      "outputs": []
    },
    {
      "cell_type": "code",
      "metadata": {
        "id": "hD1Ti_2x7Vk0"
      },
      "source": [
        "# The code below goes through the list of strings extracted from the photo, checking if each of the extractions matches the date pattern\n",
        "\n",
        "datas = []\n",
        "img_copia = rgb.copy()\n",
        "for i in range(0, len(resultado['text'])):\n",
        "  confianca = int(resultado['conf'][i])\n",
        "  if confianca > min_conf:\n",
        "    texto = resultado['text'][i]\n",
        "    if re.match(padrao_data, texto):\n",
        "      x, y, img = caixa_texto(resultado, img_copia, (0,0,255))\n",
        "      img_copia = escreve_texto(texto, x, y, img_copia, fonte, 12)\n",
        "      datas.append(texto)\n",
        "    else:\n",
        "      x, y, img_copia = caixa_texto(resultado, img_copia)\n",
        "cv2_imshow(img_copia)"
      ],
      "execution_count": null,
      "outputs": []
    },
    {
      "cell_type": "code",
      "metadata": {
        "colab": {
          "base_uri": "https://localhost:8080/"
        },
        "id": "kpN1aWhs-gAn",
        "outputId": "893019d1-86a6-4c56-8c48-c9480056be8f"
      },
      "source": [
        "datas"
      ],
      "execution_count": null,
      "outputs": [
        {
          "output_type": "execute_result",
          "data": {
            "text/plain": [
              "['10/02/2021', '04/02/2021']"
            ]
          },
          "metadata": {
            "tags": []
          },
          "execution_count": 88
        }
      ]
    }
  ]
}